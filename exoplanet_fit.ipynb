{
 "cells": [
  {
   "cell_type": "code",
   "execution_count": null,
   "id": "d022fdfe",
   "metadata": {},
   "outputs": [],
   "source": [
    "import pandas as pd\n",
    "import numpy as np\n",
    "import matplotlib.pyplot as plt\n",
    "import pymc as pm\n",
    "import pytensor.tensor as pt\n",
    "import exoplanet as xo\n",
    "from astropy.time import Time\n"
   ]
  },
  {
   "cell_type": "code",
   "execution_count": null,
   "id": "44fd8196",
   "metadata": {},
   "outputs": [],
   "source": [
    "\n",
    "# Read HJD, MAG, MERR from CSV\n",
    "df = pd.read_csv('data/lc_obs.csv')\n",
    "time = df['HJD'].values\n",
    "mag = df['MAG'].values\n",
    "merr = df['MERR'].values\n"
   ]
  },
  {
   "cell_type": "code",
   "execution_count": null,
   "id": "5d7182a5",
   "metadata": {},
   "outputs": [],
   "source": [
    "\n",
    "# Preprocess time and magnitudes\n",
    "t0 = time[0]\n",
    "t_rel = time - t0\n",
    "t_ref = np.mean(t_rel)\n",
    "t_norm = t_rel - t_ref\n",
    "\n",
    "# Convert magnitudes to relative flux\n",
    "mag0 = np.median(mag)\n",
    "flux_rel = 10**(-0.4 * (mag - mag0)) - 1.0\n",
    "flux_err = 0.4 * np.log(10) * (flux_rel + 1) * merr\n"
   ]
  },
  {
   "cell_type": "code",
   "execution_count": null,
   "id": "1b0b5589",
   "metadata": {},
   "outputs": [],
   "source": [
    "\n",
    "# Build and sample exoplanet model\n",
    "with pm.Model() as model:\n",
    "    # Orbital period prior\n",
    "    logP = pm.Normal('logP', mu=np.log(3.21305751), sigma=0.005)\n",
    "    period = pm.Deterministic('period', pt.exp(logP))\n",
    "\n",
    "    # Time of transit\n",
    "    phase = pm.Uniform('phase', lower=-0.5, upper=0.5)\n",
    "    tm = pm.Deterministic('tm', t_ref + phase * period)\n",
    "\n",
    "    # Radius ratio and impact parameter\n",
    "    r = pm.LogNormal('r', mu=np.log(0.1), sigma=0.5)\n",
    "    b = xo.distributions.ImpactParameter('b', ror=r)\n",
    "\n",
    "    # Stellar density and radius\n",
    "    log_rho_star = pm.Normal('log_rho_star', mu=np.log(1.4), sigma=0.5)\n",
    "    rho_star = pm.Deterministic('rho_star', pt.exp(log_rho_star))\n",
    "\n",
    "    log_rstar = pm.Normal('log_rstar', mu=np.log(0.7), sigma=0.5)\n",
    "    r_star = pm.Deterministic('r_star', pt.exp(log_rstar))\n",
    "\n",
    "    # Keplerian orbit\n",
    "    orbit = xo.orbits.KeplerianOrbit(period=period, t0=tm, b=b, rho_star=rho_star, r_star=r_star)\n",
    "\n",
    "    # Limb darkening\n",
    "    u = xo.distributions.QuadLimbDark('u', initval=[0.3, 0.2])\n",
    "\n",
    "    # Baseline\n",
    "    mean = pm.Normal('mean', mu=0.0, sigma=0.1)\n",
    "\n",
    "    # Light curve model\n",
    "    raw_lc = (xo.LimbDarkLightCurve(u[0], u[1])\n",
    "             .get_light_curve(orbit=orbit, r=r, t=t_norm, texp=np.median(np.diff(t_norm)))\n",
    "             .sum(axis=-1) + mean)\n",
    "\n",
    "    # Likelihood\n",
    "    pm.Normal('obs', mu=raw_lc, sigma=flux_err, observed=flux_rel)\n",
    "\n",
    "    # Sample\n",
    "    trace = pm.sample(draws=2000, tune=1000, target_accept=0.9)\n",
    "\n",
    "# Posterior predictive\n",
    "with model:\n",
    "    ppc = pm.sample_posterior_predictive(trace, var_names=['raw_lc'], random_seed=42)\n",
    "\n",
    "lc_samps = ppc.posterior_predictive['raw_lc']\n",
    "lc_median = np.median(lc_samps, axis=(0,1))\n",
    "lc_lo, lc_hi = np.percentile(lc_samps, [16,84], axis=(0,1))\n",
    "\n",
    "# Plot synthetic light curve vs data\n",
    "plt.figure(figsize=(8,4))\n",
    "plt.errorbar(time, flux_rel + 1, yerr=flux_err, fmt='.k', label='Data')\n",
    "plt.plot(time, lc_median + 1, label='Model')\n",
    "plt.fill_between(time, lc_lo + 1, lc_hi + 1, color='C0', alpha=0.3, label='1σ band')\n",
    "plt.xlabel('Heliocentric JD')\n",
    "plt.ylabel('Relative Flux')\n",
    "plt.legend()\n",
    "plt.show()"
   ]
  }
 ],
 "metadata": {
  "kernelspec": {
   "display_name": "exoplanet",
   "language": "python",
   "name": "python3"
  },
  "language_info": {
   "name": "python",
   "version": "3.11.11"
  }
 },
 "nbformat": 4,
 "nbformat_minor": 5
}
